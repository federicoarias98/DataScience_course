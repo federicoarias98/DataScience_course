{
 "cells": [
  {
   "cell_type": "code",
   "execution_count": null,
   "id": "530363e5-a6b8-4f2d-8ccb-e01604e08573",
   "metadata": {},
   "outputs": [],
   "source": [
    "# Herramientas y Ecosistema de Ciencia de Datos\n",
    "\n"
   ]
  },
  {
   "cell_type": "code",
   "execution_count": null,
   "id": "59248a92-1241-4e01-ae58-5b3670a659fa",
   "metadata": {},
   "outputs": [],
   "source": [
    "En este notebook se resumen las herramientas y el ecosistema de la Ciencia de Datos.\n"
   ]
  },
  {
   "cell_type": "code",
   "execution_count": null,
   "id": "723c7c0c-bf10-45e3-8601-7c578dd9abd3",
   "metadata": {},
   "outputs": [],
   "source": [
    "Algunos de los lenguajes populares que los Científicos de Datos usan son:\n",
    "1. Python\n",
    "2. R\n",
    "3. SQL\n"
   ]
  },
  {
   "cell_type": "code",
   "execution_count": null,
   "id": "1835f046-f03f-418e-8eab-5bd15dd575b3",
   "metadata": {},
   "outputs": [],
   "source": [
    "Algunas de las librerías comúnmente utilizadas por los Científicos de Datos son:\n",
    "1. Pandas\n",
    "2. NumPy\n",
    "3. Matplotlib\n"
   ]
  },
  {
   "cell_type": "code",
   "execution_count": null,
   "id": "cc376f46-3ac6-4fbe-9a70-3b95d63a2181",
   "metadata": {},
   "outputs": [],
   "source": [
    "| Herramientas de Ciencia de Datos |\n",
    "|----------------------------------|\n",
    "| Jupyter Notebook                 |\n",
    "| RStudio                          |\n",
    "| Apache Zeppelin                  |\n"
   ]
  },
  {
   "cell_type": "code",
   "execution_count": null,
   "id": "637763bc-4c7d-4298-a578-323fea5ed8f1",
   "metadata": {},
   "outputs": [],
   "source": [
    "### A continuación, algunos ejemplos de operaciones aritméticas en Python.\n"
   ]
  },
  {
   "cell_type": "code",
   "execution_count": 1,
   "id": "c209171c-e535-48c2-bc37-4fb4b4427403",
   "metadata": {},
   "outputs": [
    {
     "data": {
      "text/plain": [
       "17"
      ]
     },
     "execution_count": 1,
     "metadata": {},
     "output_type": "execute_result"
    }
   ],
   "source": [
    "# Esta es una expresión aritmética simple para multiplicar y luego sumar.\n",
    "(3 * 4) + 5\n"
   ]
  },
  {
   "cell_type": "code",
   "execution_count": 2,
   "id": "dd623fd6-1c3b-41e2-bf54-eb4514e3ee28",
   "metadata": {},
   "outputs": [
    {
     "data": {
      "text/plain": [
       "3.3333333333333335"
      ]
     },
     "execution_count": 2,
     "metadata": {},
     "output_type": "execute_result"
    }
   ],
   "source": [
    "# Esto convierte 200 minutos a horas dividiendo entre 60.\n",
    "200 / 60\n"
   ]
  },
  {
   "cell_type": "code",
   "execution_count": null,
   "id": "5a7b62d5-6ceb-4842-88c3-a277f06d9ed1",
   "metadata": {},
   "outputs": [],
   "source": [
    "**Objetivos:**\n",
    "- Listar lenguajes populares para la Ciencia de Datos.\n",
    "- Resumir librerías comunes utilizadas en Ciencia de Datos.\n",
    "- Mostrar herramientas de desarrollo utilizadas en Ciencia de Datos.\n",
    "- Presentar ejemplos básicos de operaciones aritméticas en Python.\n"
   ]
  },
  {
   "cell_type": "code",
   "execution_count": null,
   "id": "a464a96c-4969-424e-9ee8-3ff0d305cfae",
   "metadata": {},
   "outputs": [],
   "source": [
    "## Autor  \n",
    "[Federico Arias Ruiz]\n"
   ]
  }
 ],
 "metadata": {
  "kernelspec": {
   "display_name": "Python 3 (ipykernel)",
   "language": "python",
   "name": "python3"
  },
  "language_info": {
   "codemirror_mode": {
    "name": "ipython",
    "version": 3
   },
   "file_extension": ".py",
   "mimetype": "text/x-python",
   "name": "python",
   "nbconvert_exporter": "python",
   "pygments_lexer": "ipython3",
   "version": "3.11.9"
  }
 },
 "nbformat": 4,
 "nbformat_minor": 5
}
